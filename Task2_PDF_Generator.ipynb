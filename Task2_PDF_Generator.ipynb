{
 "cells": [
  {
   "cell_type": "code",
   "execution_count": 5,
   "id": "e33d2e21-75d1-45b7-a785-e80fbe89ce51",
   "metadata": {},
   "outputs": [
    {
     "name": "stdout",
     "output_type": "stream",
     "text": [
      "PDF generated successfully.\n"
     ]
    }
   ],
   "source": [
    "import pandas as pd\n",
    "from fpdf import FPDF\n",
    "\n",
    "# Load the CSV data\n",
    "df = pd.read_csv(\"sales.csv\")  # Replace with your actual filename\n",
    "\n",
    "# Group by Product and calculate total and average revenue\n",
    "summary = df.groupby(\"Product\")[\"Revenue\"].agg([\"sum\", \"mean\"]).reset_index()\n",
    "summary.columns = [\"Product\", \"Total Revenue\", \"Average Revenue\"]\n",
    "\n",
    "# Setup the PDF\n",
    "class PDF(FPDF):\n",
    "    def header(self):\n",
    "        self.set_font(\"Arial\", \"B\", 14)\n",
    "        self.cell(0, 10, \"Sales Revenue Report\", border=False, ln=True, align=\"C\")\n",
    "        self.ln(10)\n",
    "\n",
    "    def footer(self):\n",
    "        self.set_y(-15)\n",
    "        self.set_font(\"Arial\", \"I\", 10)\n",
    "        self.cell(0, 10, f\"Page {self.page_no()}\", align=\"C\")\n",
    "\n",
    "pdf = PDF()\n",
    "pdf.add_page()\n",
    "pdf.set_font(\"Arial\", \"\", 12)\n",
    "\n",
    "# Table Header\n",
    "# Table Header\n",
    "pdf.set_fill_color(200, 220, 255)\n",
    "pdf.set_text_color(0)\n",
    "pdf.set_font(\"Arial\", style=\"B\", size=12)\n",
    "pdf.cell(60, 10, \"Product\", 1, 0, \"C\", fill=True)\n",
    "pdf.cell(60, 10, \"Total Revenue\", 1, 0, \"C\", fill=True)\n",
    "pdf.cell(60, 10, \"Average Revenue\", 1, 1, \"C\", fill=True)\n",
    "pdf.set_font(\"Arial\", style=\"B\", size=12)\n",
    "\n",
    "\n",
    "# Table Rows\n",
    "for _, row in summary.iterrows():\n",
    "    pdf.cell(60, 10, row[\"Product\"], 1, 0, \"C\")\n",
    "    pdf.cell(60, 10, f\"{row['Total Revenue']:.2f}\", 1, 0, \"C\")\n",
    "    pdf.cell(60, 10, f\"{row['Average Revenue']:.2f}\", 1, 1, \"C\")\n",
    "\n",
    "# Save PDF\n",
    "pdf.output(\"Sales_Report.pdf\")\n",
    "\n",
    "print(\"PDF generated successfully.\")\n"
   ]
  },
  {
   "cell_type": "code",
   "execution_count": null,
   "id": "8f08ddc9-bcc5-496c-b8bb-769d54a703a7",
   "metadata": {},
   "outputs": [],
   "source": []
  }
 ],
 "metadata": {
  "kernelspec": {
   "display_name": "Python 3 (ipykernel)",
   "language": "python",
   "name": "python3"
  },
  "language_info": {
   "codemirror_mode": {
    "name": "ipython",
    "version": 3
   },
   "file_extension": ".py",
   "mimetype": "text/x-python",
   "name": "python",
   "nbconvert_exporter": "python",
   "pygments_lexer": "ipython3",
   "version": "3.12.7"
  }
 },
 "nbformat": 4,
 "nbformat_minor": 5
}
